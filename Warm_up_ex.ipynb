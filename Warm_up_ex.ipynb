{
  "nbformat": 4,
  "nbformat_minor": 0,
  "metadata": {
    "colab": {
      "provenance": [],
      "authorship_tag": "ABX9TyMT9wJj8F9yQzt6ZA9axtJ9",
      "include_colab_link": true
    },
    "kernelspec": {
      "name": "python3",
      "display_name": "Python 3"
    },
    "language_info": {
      "name": "python"
    }
  },
  "cells": [
    {
      "cell_type": "markdown",
      "metadata": {
        "id": "view-in-github",
        "colab_type": "text"
      },
      "source": [
        "<a href=\"https://colab.research.google.com/github/Neha-envy/P346_Computational_Physics/blob/main/Warm_up_ex.ipynb\" target=\"_parent\"><img src=\"https://colab.research.google.com/assets/colab-badge.svg\" alt=\"Open In Colab\"/></a>"
      ]
    },
    {
      "cell_type": "code",
      "execution_count": null,
      "metadata": {
        "colab": {
          "base_uri": "https://localhost:8080/"
        },
        "id": "ajCYxHDuxcsY",
        "outputId": "268ce6e7-b1ad-4fbb-b669-a25b098ccf7f"
      },
      "outputs": [
        {
          "output_type": "stream",
          "name": "stdout",
          "text": [
            "list of first 20 odd numbers [1, 3, 5, 7, 9, 11, 13, 15, 17, 19, 21, 23, 25, 27, 29, 31, 33, 35, 37, 39]\n",
            "Sum of first 20 odd numbers is 400\n",
            "8!= 40320\n"
          ]
        }
      ],
      "source": [
        "# sum of first 20 odd numbers\n",
        "sum=0\n",
        "L=[]\n",
        "while len(L)<20:\n",
        " sum=sum+1\n",
        " if sum%2==1:\n",
        "  L.append(sum)\n",
        " else:\n",
        "  pass\n",
        "\n",
        "print('list of first 20 odd numbers',L)\n",
        "\n",
        "sum=0\n",
        "for i in range(len(L)):\n",
        " sum+=L[i]\n",
        "print('Sum of first 20 odd numbers is',sum)\n",
        "\n",
        "\n",
        "#Calculate 8!\n",
        "fact_0=1\n",
        "fact=1\n",
        "for i in range(1,9):\n",
        "  fact=fact*i\n",
        "fact=fact_0*fact\n",
        "print('8!=',fact)\n"
      ]
    },
    {
      "cell_type": "code",
      "source": [
        "#sum of first 15 terms of GP with common ratio 0.5 starting from 1.25\n",
        "t=1.25\n",
        "L=[]\n",
        "for i in range(15):\n",
        "  t=t*0.5\n",
        "  L.append(sum)\n",
        "\n",
        "sum=0\n",
        "for i in range(len(L)):\n",
        "  sum=sum+L[i]\n",
        "print('sum of terms of given GP',sum)\n",
        "\n",
        "#sum of first 15 terms of an HP with common difference 1.5 starting from 1.25\n",
        "t=1.25\n",
        "L=[]\n",
        "for i in range(15):\n",
        "  t=t+1.5\n",
        "  L.append(1/t)\n",
        "\n",
        "sum=0\n",
        "for i in range(15):\n",
        "  sum=sum+L[i]\n",
        "\n",
        "print('sum of terms of given HP',sum)\n"
      ],
      "metadata": {
        "colab": {
          "base_uri": "https://localhost:8080/"
        },
        "id": "9_Qp300D111D",
        "outputId": "460d11a3-3ece-4b55-a8b7-4e750cd7ac1f"
      },
      "execution_count": null,
      "outputs": [
        {
          "output_type": "stream",
          "name": "stdout",
          "text": [
            "sum of terms of given GP 24.8409350478572\n",
            "sum of terms of given HP 1.6560623365238134\n"
          ]
        }
      ]
    },
    {
      "cell_type": "code",
      "source": [
        "def read_matrix(filename):\n",
        "  with open(filename,'r') as f:\n",
        "    matrix=[]\n",
        "    for line in f:\n",
        "      row=[float(num) for num in line.strip().split()]\n",
        "      matrix.append(row)\n",
        "  return matrix\n",
        "\n",
        "mat_A=read_matrix('/content/asgn0_matA')\n",
        "mat_B=read_matrix('/content/asgn0_matB')\n",
        "vec_C=read_matrix('/content/asgn0_vecC')\n",
        "vec_D=read_matrix('/content/asgn0_vecD')\n",
        "\n",
        "#AB\n",
        "m=len(mat_A)#number of rows of A\n",
        "n=len(mat_A[0])#number of columns of A = number of rows of B\n",
        "p=len(mat_B[0])#number of columns of B\n",
        "\n",
        "mat_AB=[]\n",
        "for i in range(m):\n",
        "  row=[]\n",
        "  for j in range(p):\n",
        "    for k in range(n):\n",
        "     row.append(mat_A[i][k]*mat_B[k][j])\n",
        "  mat_AB.append(row)\n",
        "\n",
        "print('AB=',mat_AB)\n",
        "\n",
        "#C.D\n",
        "n=len(vec_C)# number of elements of vec C = number of elements of vec D\n",
        "CdotD=[]\n",
        "for i in range(n):\n",
        "  CdotD.append(vec_C[i][0]*vec_D[i][0])\n",
        "print('C.D=',CdotD)\n",
        "\n",
        "#BC\n",
        "m=len(mat_B)#number of rows of B\n",
        "n=len(mat_B[0])# number of columns of B = number of rows of C\n",
        "mat_BC=[]\n",
        "for i in range(m):\n",
        "  for j in range(n):\n",
        "    mat_BC.append(mat_B[i][j]*vec_C[j][0])\n",
        "print('BC=',mat_BC)\n"
      ],
      "metadata": {
        "id": "Tnap3AEm_QNN",
        "colab": {
          "base_uri": "https://localhost:8080/"
        },
        "outputId": "c5f14ac0-d4bc-4f16-e2f9-d747ec2d2939"
      },
      "execution_count": null,
      "outputs": [
        {
          "output_type": "stream",
          "name": "stdout",
          "text": [
            "[[-2.0], [0.5], [1.5]]\n",
            "AB= [[0.0, -4.5, 4.199999999999999, -2.0, -1.5, 0.0, 2.0, 6.0, -2.8], [0.0, 1.5, -6.0, -2.5, 0.5, -0.0, 2.5, -2.0, 4.0], [-0.0, 0.0, 9.3, 0.8, 0.0, 0.0, -0.8, -0.0, -6.2]]\n",
            "C.D= [-2.0, 0.0, -1.5]\n",
            "BC= [-0.0, -0.5, 1.5, -3.0, 0.25, -3.0, -6.0, 0.0, -3.0]\n"
          ]
        }
      ]
    },
    {
      "cell_type": "code",
      "source": [],
      "metadata": {
        "id": "-_GTSB_WG6BT"
      },
      "execution_count": null,
      "outputs": []
    }
  ]
}